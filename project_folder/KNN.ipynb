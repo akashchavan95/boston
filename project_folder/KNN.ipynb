{
 "cells": [
  {
   "cell_type": "code",
   "execution_count": 1,
   "id": "e3af5b89",
   "metadata": {},
   "outputs": [],
   "source": [
    "import pandas as pd\n",
    "import numpy as np\n",
    "import seaborn as sns\n",
    "import matplotlib.pyplot as plt\n",
    "from sklearn.datasets import load_boston\n",
    "from sklearn.preprocessing import MinMaxScaler,StandardScaler\n",
    "\n",
    "from sklearn.model_selection import train_test_split\n",
    "from sklearn.neighbors import KNeighborsRegressor\n",
    "from sklearn.linear_model import LinearRegression\n",
    "\n",
    "from sklearn.metrics import mean_absolute_error,r2_score,mean_squared_error\n",
    "\n",
    "import plotly.express as px\n",
    "\n",
    "import json\n",
    "import pickle\n"
   ]
  },
  {
   "cell_type": "markdown",
   "id": "5794d3dd",
   "metadata": {},
   "source": [
    "## 1) Problem Statment"
   ]
  },
  {
   "cell_type": "code",
   "execution_count": 2,
   "id": "2da8429a",
   "metadata": {},
   "outputs": [],
   "source": [
    "# To predict the House price using Features"
   ]
  },
  {
   "cell_type": "markdown",
   "id": "5a9dcd9c",
   "metadata": {},
   "source": [
    "## 2) Data Gathering & Data Validation"
   ]
  },
  {
   "cell_type": "code",
   "execution_count": 9,
   "id": "8dd1bae6",
   "metadata": {},
   "outputs": [
    {
     "data": {
      "text/html": [
       "<div>\n",
       "<style scoped>\n",
       "    .dataframe tbody tr th:only-of-type {\n",
       "        vertical-align: middle;\n",
       "    }\n",
       "\n",
       "    .dataframe tbody tr th {\n",
       "        vertical-align: top;\n",
       "    }\n",
       "\n",
       "    .dataframe thead th {\n",
       "        text-align: right;\n",
       "    }\n",
       "</style>\n",
       "<table border=\"1\" class=\"dataframe\">\n",
       "  <thead>\n",
       "    <tr style=\"text-align: right;\">\n",
       "      <th></th>\n",
       "      <th>CRIM</th>\n",
       "      <th>ZN</th>\n",
       "      <th>INDUS</th>\n",
       "      <th>CHAS</th>\n",
       "      <th>NOX</th>\n",
       "      <th>RM</th>\n",
       "      <th>AGE</th>\n",
       "      <th>DIS</th>\n",
       "      <th>RAD</th>\n",
       "      <th>TAX</th>\n",
       "      <th>PTRATIO</th>\n",
       "      <th>B</th>\n",
       "      <th>LSTAT</th>\n",
       "      <th>Price</th>\n",
       "    </tr>\n",
       "  </thead>\n",
       "  <tbody>\n",
       "    <tr>\n",
       "      <th>0</th>\n",
       "      <td>0.00632</td>\n",
       "      <td>18.0</td>\n",
       "      <td>2.31</td>\n",
       "      <td>0.0</td>\n",
       "      <td>0.538</td>\n",
       "      <td>6.575</td>\n",
       "      <td>65.2</td>\n",
       "      <td>4.0900</td>\n",
       "      <td>1.0</td>\n",
       "      <td>296.0</td>\n",
       "      <td>15.3</td>\n",
       "      <td>396.90</td>\n",
       "      <td>4.98</td>\n",
       "      <td>24.0</td>\n",
       "    </tr>\n",
       "    <tr>\n",
       "      <th>1</th>\n",
       "      <td>0.02731</td>\n",
       "      <td>0.0</td>\n",
       "      <td>7.07</td>\n",
       "      <td>0.0</td>\n",
       "      <td>0.469</td>\n",
       "      <td>6.421</td>\n",
       "      <td>78.9</td>\n",
       "      <td>4.9671</td>\n",
       "      <td>2.0</td>\n",
       "      <td>242.0</td>\n",
       "      <td>17.8</td>\n",
       "      <td>396.90</td>\n",
       "      <td>9.14</td>\n",
       "      <td>21.6</td>\n",
       "    </tr>\n",
       "    <tr>\n",
       "      <th>2</th>\n",
       "      <td>0.02729</td>\n",
       "      <td>0.0</td>\n",
       "      <td>7.07</td>\n",
       "      <td>0.0</td>\n",
       "      <td>0.469</td>\n",
       "      <td>7.185</td>\n",
       "      <td>61.1</td>\n",
       "      <td>4.9671</td>\n",
       "      <td>2.0</td>\n",
       "      <td>242.0</td>\n",
       "      <td>17.8</td>\n",
       "      <td>392.83</td>\n",
       "      <td>4.03</td>\n",
       "      <td>34.7</td>\n",
       "    </tr>\n",
       "    <tr>\n",
       "      <th>3</th>\n",
       "      <td>0.03237</td>\n",
       "      <td>0.0</td>\n",
       "      <td>2.18</td>\n",
       "      <td>0.0</td>\n",
       "      <td>0.458</td>\n",
       "      <td>6.998</td>\n",
       "      <td>45.8</td>\n",
       "      <td>6.0622</td>\n",
       "      <td>3.0</td>\n",
       "      <td>222.0</td>\n",
       "      <td>18.7</td>\n",
       "      <td>394.63</td>\n",
       "      <td>2.94</td>\n",
       "      <td>33.4</td>\n",
       "    </tr>\n",
       "    <tr>\n",
       "      <th>4</th>\n",
       "      <td>0.06905</td>\n",
       "      <td>0.0</td>\n",
       "      <td>2.18</td>\n",
       "      <td>0.0</td>\n",
       "      <td>0.458</td>\n",
       "      <td>7.147</td>\n",
       "      <td>54.2</td>\n",
       "      <td>6.0622</td>\n",
       "      <td>3.0</td>\n",
       "      <td>222.0</td>\n",
       "      <td>18.7</td>\n",
       "      <td>396.90</td>\n",
       "      <td>5.33</td>\n",
       "      <td>36.2</td>\n",
       "    </tr>\n",
       "    <tr>\n",
       "      <th>...</th>\n",
       "      <td>...</td>\n",
       "      <td>...</td>\n",
       "      <td>...</td>\n",
       "      <td>...</td>\n",
       "      <td>...</td>\n",
       "      <td>...</td>\n",
       "      <td>...</td>\n",
       "      <td>...</td>\n",
       "      <td>...</td>\n",
       "      <td>...</td>\n",
       "      <td>...</td>\n",
       "      <td>...</td>\n",
       "      <td>...</td>\n",
       "      <td>...</td>\n",
       "    </tr>\n",
       "    <tr>\n",
       "      <th>501</th>\n",
       "      <td>0.06263</td>\n",
       "      <td>0.0</td>\n",
       "      <td>11.93</td>\n",
       "      <td>0.0</td>\n",
       "      <td>0.573</td>\n",
       "      <td>6.593</td>\n",
       "      <td>69.1</td>\n",
       "      <td>2.4786</td>\n",
       "      <td>1.0</td>\n",
       "      <td>273.0</td>\n",
       "      <td>21.0</td>\n",
       "      <td>391.99</td>\n",
       "      <td>9.67</td>\n",
       "      <td>22.4</td>\n",
       "    </tr>\n",
       "    <tr>\n",
       "      <th>502</th>\n",
       "      <td>0.04527</td>\n",
       "      <td>0.0</td>\n",
       "      <td>11.93</td>\n",
       "      <td>0.0</td>\n",
       "      <td>0.573</td>\n",
       "      <td>6.120</td>\n",
       "      <td>76.7</td>\n",
       "      <td>2.2875</td>\n",
       "      <td>1.0</td>\n",
       "      <td>273.0</td>\n",
       "      <td>21.0</td>\n",
       "      <td>396.90</td>\n",
       "      <td>9.08</td>\n",
       "      <td>20.6</td>\n",
       "    </tr>\n",
       "    <tr>\n",
       "      <th>503</th>\n",
       "      <td>0.06076</td>\n",
       "      <td>0.0</td>\n",
       "      <td>11.93</td>\n",
       "      <td>0.0</td>\n",
       "      <td>0.573</td>\n",
       "      <td>6.976</td>\n",
       "      <td>91.0</td>\n",
       "      <td>2.1675</td>\n",
       "      <td>1.0</td>\n",
       "      <td>273.0</td>\n",
       "      <td>21.0</td>\n",
       "      <td>396.90</td>\n",
       "      <td>5.64</td>\n",
       "      <td>23.9</td>\n",
       "    </tr>\n",
       "    <tr>\n",
       "      <th>504</th>\n",
       "      <td>0.10959</td>\n",
       "      <td>0.0</td>\n",
       "      <td>11.93</td>\n",
       "      <td>0.0</td>\n",
       "      <td>0.573</td>\n",
       "      <td>6.794</td>\n",
       "      <td>89.3</td>\n",
       "      <td>2.3889</td>\n",
       "      <td>1.0</td>\n",
       "      <td>273.0</td>\n",
       "      <td>21.0</td>\n",
       "      <td>393.45</td>\n",
       "      <td>6.48</td>\n",
       "      <td>22.0</td>\n",
       "    </tr>\n",
       "    <tr>\n",
       "      <th>505</th>\n",
       "      <td>0.04741</td>\n",
       "      <td>0.0</td>\n",
       "      <td>11.93</td>\n",
       "      <td>0.0</td>\n",
       "      <td>0.573</td>\n",
       "      <td>6.030</td>\n",
       "      <td>80.8</td>\n",
       "      <td>2.5050</td>\n",
       "      <td>1.0</td>\n",
       "      <td>273.0</td>\n",
       "      <td>21.0</td>\n",
       "      <td>396.90</td>\n",
       "      <td>7.88</td>\n",
       "      <td>11.9</td>\n",
       "    </tr>\n",
       "  </tbody>\n",
       "</table>\n",
       "<p>506 rows × 14 columns</p>\n",
       "</div>"
      ],
      "text/plain": [
       "        CRIM    ZN  INDUS  CHAS    NOX     RM   AGE     DIS  RAD    TAX  \\\n",
       "0    0.00632  18.0   2.31   0.0  0.538  6.575  65.2  4.0900  1.0  296.0   \n",
       "1    0.02731   0.0   7.07   0.0  0.469  6.421  78.9  4.9671  2.0  242.0   \n",
       "2    0.02729   0.0   7.07   0.0  0.469  7.185  61.1  4.9671  2.0  242.0   \n",
       "3    0.03237   0.0   2.18   0.0  0.458  6.998  45.8  6.0622  3.0  222.0   \n",
       "4    0.06905   0.0   2.18   0.0  0.458  7.147  54.2  6.0622  3.0  222.0   \n",
       "..       ...   ...    ...   ...    ...    ...   ...     ...  ...    ...   \n",
       "501  0.06263   0.0  11.93   0.0  0.573  6.593  69.1  2.4786  1.0  273.0   \n",
       "502  0.04527   0.0  11.93   0.0  0.573  6.120  76.7  2.2875  1.0  273.0   \n",
       "503  0.06076   0.0  11.93   0.0  0.573  6.976  91.0  2.1675  1.0  273.0   \n",
       "504  0.10959   0.0  11.93   0.0  0.573  6.794  89.3  2.3889  1.0  273.0   \n",
       "505  0.04741   0.0  11.93   0.0  0.573  6.030  80.8  2.5050  1.0  273.0   \n",
       "\n",
       "     PTRATIO       B  LSTAT  Price  \n",
       "0       15.3  396.90   4.98   24.0  \n",
       "1       17.8  396.90   9.14   21.6  \n",
       "2       17.8  392.83   4.03   34.7  \n",
       "3       18.7  394.63   2.94   33.4  \n",
       "4       18.7  396.90   5.33   36.2  \n",
       "..       ...     ...    ...    ...  \n",
       "501     21.0  391.99   9.67   22.4  \n",
       "502     21.0  396.90   9.08   20.6  \n",
       "503     21.0  396.90   5.64   23.9  \n",
       "504     21.0  393.45   6.48   22.0  \n",
       "505     21.0  396.90   7.88   11.9  \n",
       "\n",
       "[506 rows x 14 columns]"
      ]
     },
     "execution_count": 9,
     "metadata": {},
     "output_type": "execute_result"
    }
   ],
   "source": [
    "boston_data = load_boston()\n",
    "df = pd.DataFrame(boston_data.data,columns=boston_data.feature_names)\n",
    "df[\"Price\"] = boston_data.target\n",
    "df"
   ]
  },
  {
   "cell_type": "markdown",
   "id": "e8dcb85d",
   "metadata": {},
   "source": [
    "## 3) EDA"
   ]
  },
  {
   "cell_type": "markdown",
   "id": "7443e023",
   "metadata": {},
   "source": [
    "## 3.1 CRIM"
   ]
  },
  {
   "cell_type": "code",
   "execution_count": 10,
   "id": "0ea6c6a2",
   "metadata": {},
   "outputs": [
    {
     "data": {
      "text/plain": [
       "0.01501     2\n",
       "14.33370    2\n",
       "0.03466     1\n",
       "0.03113     1\n",
       "0.03049     1\n",
       "           ..\n",
       "1.51902     1\n",
       "1.83377     1\n",
       "1.46336     1\n",
       "1.27346     1\n",
       "0.04741     1\n",
       "Name: CRIM, Length: 504, dtype: int64"
      ]
     },
     "execution_count": 10,
     "metadata": {},
     "output_type": "execute_result"
    }
   ],
   "source": [
    "df[\"CRIM\"].value_counts()"
   ]
  },
  {
   "cell_type": "code",
   "execution_count": 11,
   "id": "04d4ffe6",
   "metadata": {},
   "outputs": [
    {
     "data": {
      "text/html": [
       "<div>\n",
       "<style scoped>\n",
       "    .dataframe tbody tr th:only-of-type {\n",
       "        vertical-align: middle;\n",
       "    }\n",
       "\n",
       "    .dataframe tbody tr th {\n",
       "        vertical-align: top;\n",
       "    }\n",
       "\n",
       "    .dataframe thead th {\n",
       "        text-align: right;\n",
       "    }\n",
       "</style>\n",
       "<table border=\"1\" class=\"dataframe\">\n",
       "  <thead>\n",
       "    <tr style=\"text-align: right;\">\n",
       "      <th></th>\n",
       "      <th>CRIM</th>\n",
       "      <th>ZN</th>\n",
       "      <th>INDUS</th>\n",
       "      <th>CHAS</th>\n",
       "      <th>NOX</th>\n",
       "      <th>RM</th>\n",
       "      <th>AGE</th>\n",
       "      <th>DIS</th>\n",
       "      <th>RAD</th>\n",
       "      <th>TAX</th>\n",
       "      <th>PTRATIO</th>\n",
       "      <th>B</th>\n",
       "      <th>LSTAT</th>\n",
       "      <th>Price</th>\n",
       "    </tr>\n",
       "  </thead>\n",
       "  <tbody>\n",
       "    <tr>\n",
       "      <th>count</th>\n",
       "      <td>506.000000</td>\n",
       "      <td>506.000000</td>\n",
       "      <td>506.000000</td>\n",
       "      <td>506.000000</td>\n",
       "      <td>506.000000</td>\n",
       "      <td>506.000000</td>\n",
       "      <td>506.000000</td>\n",
       "      <td>506.000000</td>\n",
       "      <td>506.000000</td>\n",
       "      <td>506.000000</td>\n",
       "      <td>506.000000</td>\n",
       "      <td>506.000000</td>\n",
       "      <td>506.000000</td>\n",
       "      <td>506.000000</td>\n",
       "    </tr>\n",
       "    <tr>\n",
       "      <th>mean</th>\n",
       "      <td>3.613524</td>\n",
       "      <td>11.363636</td>\n",
       "      <td>11.136779</td>\n",
       "      <td>0.069170</td>\n",
       "      <td>0.554695</td>\n",
       "      <td>6.284634</td>\n",
       "      <td>68.574901</td>\n",
       "      <td>3.795043</td>\n",
       "      <td>9.549407</td>\n",
       "      <td>408.237154</td>\n",
       "      <td>18.455534</td>\n",
       "      <td>356.674032</td>\n",
       "      <td>12.653063</td>\n",
       "      <td>22.532806</td>\n",
       "    </tr>\n",
       "    <tr>\n",
       "      <th>std</th>\n",
       "      <td>8.601545</td>\n",
       "      <td>23.322453</td>\n",
       "      <td>6.860353</td>\n",
       "      <td>0.253994</td>\n",
       "      <td>0.115878</td>\n",
       "      <td>0.702617</td>\n",
       "      <td>28.148861</td>\n",
       "      <td>2.105710</td>\n",
       "      <td>8.707259</td>\n",
       "      <td>168.537116</td>\n",
       "      <td>2.164946</td>\n",
       "      <td>91.294864</td>\n",
       "      <td>7.141062</td>\n",
       "      <td>9.197104</td>\n",
       "    </tr>\n",
       "    <tr>\n",
       "      <th>min</th>\n",
       "      <td>0.006320</td>\n",
       "      <td>0.000000</td>\n",
       "      <td>0.460000</td>\n",
       "      <td>0.000000</td>\n",
       "      <td>0.385000</td>\n",
       "      <td>3.561000</td>\n",
       "      <td>2.900000</td>\n",
       "      <td>1.129600</td>\n",
       "      <td>1.000000</td>\n",
       "      <td>187.000000</td>\n",
       "      <td>12.600000</td>\n",
       "      <td>0.320000</td>\n",
       "      <td>1.730000</td>\n",
       "      <td>5.000000</td>\n",
       "    </tr>\n",
       "    <tr>\n",
       "      <th>25%</th>\n",
       "      <td>0.082045</td>\n",
       "      <td>0.000000</td>\n",
       "      <td>5.190000</td>\n",
       "      <td>0.000000</td>\n",
       "      <td>0.449000</td>\n",
       "      <td>5.885500</td>\n",
       "      <td>45.025000</td>\n",
       "      <td>2.100175</td>\n",
       "      <td>4.000000</td>\n",
       "      <td>279.000000</td>\n",
       "      <td>17.400000</td>\n",
       "      <td>375.377500</td>\n",
       "      <td>6.950000</td>\n",
       "      <td>17.025000</td>\n",
       "    </tr>\n",
       "    <tr>\n",
       "      <th>50%</th>\n",
       "      <td>0.256510</td>\n",
       "      <td>0.000000</td>\n",
       "      <td>9.690000</td>\n",
       "      <td>0.000000</td>\n",
       "      <td>0.538000</td>\n",
       "      <td>6.208500</td>\n",
       "      <td>77.500000</td>\n",
       "      <td>3.207450</td>\n",
       "      <td>5.000000</td>\n",
       "      <td>330.000000</td>\n",
       "      <td>19.050000</td>\n",
       "      <td>391.440000</td>\n",
       "      <td>11.360000</td>\n",
       "      <td>21.200000</td>\n",
       "    </tr>\n",
       "    <tr>\n",
       "      <th>75%</th>\n",
       "      <td>3.677083</td>\n",
       "      <td>12.500000</td>\n",
       "      <td>18.100000</td>\n",
       "      <td>0.000000</td>\n",
       "      <td>0.624000</td>\n",
       "      <td>6.623500</td>\n",
       "      <td>94.075000</td>\n",
       "      <td>5.188425</td>\n",
       "      <td>24.000000</td>\n",
       "      <td>666.000000</td>\n",
       "      <td>20.200000</td>\n",
       "      <td>396.225000</td>\n",
       "      <td>16.955000</td>\n",
       "      <td>25.000000</td>\n",
       "    </tr>\n",
       "    <tr>\n",
       "      <th>max</th>\n",
       "      <td>88.976200</td>\n",
       "      <td>100.000000</td>\n",
       "      <td>27.740000</td>\n",
       "      <td>1.000000</td>\n",
       "      <td>0.871000</td>\n",
       "      <td>8.780000</td>\n",
       "      <td>100.000000</td>\n",
       "      <td>12.126500</td>\n",
       "      <td>24.000000</td>\n",
       "      <td>711.000000</td>\n",
       "      <td>22.000000</td>\n",
       "      <td>396.900000</td>\n",
       "      <td>37.970000</td>\n",
       "      <td>50.000000</td>\n",
       "    </tr>\n",
       "  </tbody>\n",
       "</table>\n",
       "</div>"
      ],
      "text/plain": [
       "             CRIM          ZN       INDUS        CHAS         NOX          RM  \\\n",
       "count  506.000000  506.000000  506.000000  506.000000  506.000000  506.000000   \n",
       "mean     3.613524   11.363636   11.136779    0.069170    0.554695    6.284634   \n",
       "std      8.601545   23.322453    6.860353    0.253994    0.115878    0.702617   \n",
       "min      0.006320    0.000000    0.460000    0.000000    0.385000    3.561000   \n",
       "25%      0.082045    0.000000    5.190000    0.000000    0.449000    5.885500   \n",
       "50%      0.256510    0.000000    9.690000    0.000000    0.538000    6.208500   \n",
       "75%      3.677083   12.500000   18.100000    0.000000    0.624000    6.623500   \n",
       "max     88.976200  100.000000   27.740000    1.000000    0.871000    8.780000   \n",
       "\n",
       "              AGE         DIS         RAD         TAX     PTRATIO           B  \\\n",
       "count  506.000000  506.000000  506.000000  506.000000  506.000000  506.000000   \n",
       "mean    68.574901    3.795043    9.549407  408.237154   18.455534  356.674032   \n",
       "std     28.148861    2.105710    8.707259  168.537116    2.164946   91.294864   \n",
       "min      2.900000    1.129600    1.000000  187.000000   12.600000    0.320000   \n",
       "25%     45.025000    2.100175    4.000000  279.000000   17.400000  375.377500   \n",
       "50%     77.500000    3.207450    5.000000  330.000000   19.050000  391.440000   \n",
       "75%     94.075000    5.188425   24.000000  666.000000   20.200000  396.225000   \n",
       "max    100.000000   12.126500   24.000000  711.000000   22.000000  396.900000   \n",
       "\n",
       "            LSTAT       Price  \n",
       "count  506.000000  506.000000  \n",
       "mean    12.653063   22.532806  \n",
       "std      7.141062    9.197104  \n",
       "min      1.730000    5.000000  \n",
       "25%      6.950000   17.025000  \n",
       "50%     11.360000   21.200000  \n",
       "75%     16.955000   25.000000  \n",
       "max     37.970000   50.000000  "
      ]
     },
     "execution_count": 11,
     "metadata": {},
     "output_type": "execute_result"
    }
   ],
   "source": [
    "df.describe()"
   ]
  },
  {
   "cell_type": "code",
   "execution_count": 12,
   "id": "af30c647",
   "metadata": {},
   "outputs": [
    {
     "name": "stderr",
     "output_type": "stream",
     "text": [
      "C:\\Users\\Admin\\anaconda3\\lib\\site-packages\\seaborn\\_decorators.py:36: FutureWarning: Pass the following variable as a keyword arg: x. From version 0.12, the only valid positional argument will be `data`, and passing other arguments without an explicit keyword will result in an error or misinterpretation.\n",
      "  warnings.warn(\n"
     ]
    },
    {
     "data": {
      "text/plain": [
       "<AxesSubplot:xlabel='CRIM'>"
      ]
     },
     "execution_count": 12,
     "metadata": {},
     "output_type": "execute_result"
    },
    {
     "data": {
      "image/png": "[encoded data removed]",
      "text/plain": [
       "<Figure size 432x288 with 1 Axes>"
      ]
     },
     "metadata": {
      "needs_background": "light"
     },
     "output_type": "display_data"
    }
   ],
   "source": [
    "sns.boxplot(df[\"CRIM\"])"
   ]
  },
  {
   "cell_type": "code",
   "execution_count": 13,
   "id": "a5a36b9f",
   "metadata": {},
   "outputs": [
    {
     "data": {
      "text/plain": [
       "CRIM       0\n",
       "ZN         0\n",
       "INDUS      0\n",
       "CHAS       0\n",
       "NOX        0\n",
       "RM         0\n",
       "AGE        0\n",
       "DIS        0\n",
       "RAD        0\n",
       "TAX        0\n",
       "PTRATIO    0\n",
       "B          0\n",
       "LSTAT      0\n",
       "Price      0\n",
       "dtype: int64"
      ]
     },
     "execution_count": 13,
     "metadata": {},
     "output_type": "execute_result"
    }
   ],
   "source": [
    "df.isna().sum()"
   ]
  },
  {
   "cell_type": "markdown",
   "id": "72e9d1f9",
   "metadata": {},
   "source": [
    "## Train Test Split"
   ]
  },
  {
   "cell_type": "code",
   "execution_count": 16,
   "id": "e98d9ff6",
   "metadata": {},
   "outputs": [],
   "source": [
    "x = df.drop(\"Price\",axis=1)\n",
    "y = df[\"Price\"]\n",
    "x_train,x_test,y_train,y_test = train_test_split(x,y,test_size=0.30,random_state=45)"
   ]
  },
  {
   "cell_type": "markdown",
   "id": "9ec1357f",
   "metadata": {},
   "source": [
    "## Model Training"
   ]
  },
  {
   "cell_type": "code",
   "execution_count": 24,
   "id": "e1745a72",
   "metadata": {},
   "outputs": [
    {
     "data": {
      "text/plain": [
       "KNeighborsRegressor()"
      ]
     },
     "execution_count": 24,
     "metadata": {},
     "output_type": "execute_result"
    }
   ],
   "source": [
    "knn_reg = KNeighborsRegressor()\n",
    "knn_reg.fit(x_train,y_train)"
   ]
  },
  {
   "cell_type": "markdown",
   "id": "09f24ac9",
   "metadata": {},
   "source": [
    "## Evaluation"
   ]
  },
  {
   "cell_type": "code",
   "execution_count": 19,
   "id": "13b47f8b",
   "metadata": {},
   "outputs": [
    {
     "name": "stdout",
     "output_type": "stream",
     "text": [
      "MSE 50.502305263157886\n",
      "********************\n",
      "MAE 5.098421052631579\n",
      "********************\n",
      "R2_score 0.47712788015961294\n"
     ]
    }
   ],
   "source": [
    "\n",
    "# Testing\n",
    "y_pred_test = knn_reg.predict(x_test)\n",
    "mse = mean_squared_error(y_test,y_pred_test)\n",
    "print(\"MSE\",mse)\n",
    "print(\"*\"*20)\n",
    "\n",
    "mae = mean_absolute_error(y_test,y_pred_test)\n",
    "print(\"MAE\",mae)\n",
    "print(\"*\"*20)\n",
    "R2_SCORE = r2_score(y_test,y_pred_test)\n",
    "print(\"R2_score\",R2_SCORE)"
   ]
  },
  {
   "cell_type": "code",
   "execution_count": 20,
   "id": "9aa8aac6",
   "metadata": {},
   "outputs": [
    {
     "name": "stdout",
     "output_type": "stream",
     "text": [
      "MSE 25.331198870056497\n",
      "********************\n",
      "MAE 3.4637853107344636\n",
      "********************\n",
      "R2_score 0.6801207607707431\n"
     ]
    }
   ],
   "source": [
    "# Training\n",
    "y_pred_train = knn_reg.predict(x_train)\n",
    "mse = mean_squared_error(y_train,y_pred_train)\n",
    "print(\"MSE\",mse)\n",
    "print(\"*\"*20)\n",
    "\n",
    "mae = mean_absolute_error(y_train,y_pred_train)\n",
    "print(\"MAE\",mae)\n",
    "print(\"*\"*20)\n",
    "R2_SCORE = r2_score(y_train,y_pred_train)\n",
    "print(\"R2_score\",R2_SCORE)"
   ]
  },
  {
   "cell_type": "markdown",
   "id": "6d9556ca",
   "metadata": {},
   "source": [
    "## Linear Regression"
   ]
  },
  {
   "cell_type": "code",
   "execution_count": 21,
   "id": "6843ac1c",
   "metadata": {},
   "outputs": [
    {
     "data": {
      "text/plain": [
       "LinearRegression()"
      ]
     },
     "execution_count": 21,
     "metadata": {},
     "output_type": "execute_result"
    }
   ],
   "source": [
    "lr_reg = LinearRegression()\n",
    "lr_reg.fit(x_train,y_train)"
   ]
  },
  {
   "cell_type": "code",
   "execution_count": 23,
   "id": "ec409d79",
   "metadata": {},
   "outputs": [
    {
     "name": "stdout",
     "output_type": "stream",
     "text": [
      "MSE 21.0891518209497\n",
      "********************\n",
      "MAE 3.1563124523249786\n",
      "********************\n",
      "R2_score 0.7336888050549404\n"
     ]
    }
   ],
   "source": [
    "# Training\n",
    "y_pred_train = lr_reg.predict(x_train)\n",
    "mse = mean_squared_error(y_train,y_pred_train)\n",
    "print(\"MSE\",mse)\n",
    "print(\"*\"*20)\n",
    "\n",
    "mae = mean_absolute_error(y_train,y_pred_train)\n",
    "print(\"MAE\",mae)\n",
    "print(\"*\"*20)\n",
    "R2_SCORE = r2_score(y_train,y_pred_train)\n",
    "print(\"R2_score\",R2_SCORE)"
   ]
  },
  {
   "cell_type": "markdown",
   "id": "d8fb00ad",
   "metadata": {},
   "source": [
    "## Hyper Parameter Tuning"
   ]
  },
  {
   "cell_type": "code",
   "execution_count": 34,
   "id": "8dc7ee5c",
   "metadata": {},
   "outputs": [
    {
     "data": {
      "text/plain": [
       "Text(0.5, 1.0, 'Comparison Between Train and Test Accuracies')"
      ]
     },
     "execution_count": 34,
     "metadata": {},
     "output_type": "execute_result"
    },
    {
     "data": {
      "image/png": "[encoded data removed]",
      "text/plain": [
       "<Figure size 1440x720 with 1 Axes>"
      ]
     },
     "metadata": {
      "needs_background": "light"
     },
     "output_type": "display_data"
    }
   ],
   "source": [
    "# knn_reg = KNeighborsRegressor()\n",
    "# knn_reg.fit(x_train,y_train)\n",
    "r2_train_list = []\n",
    "r2_test_list  = []\n",
    "k_values = range(2,21)\n",
    "for k in k_values:\n",
    "    knn_reg = KNeighborsRegressor(n_neighbors=k,p=1) # MD\n",
    "    knn_reg.fit(x_train,y_train)\n",
    "    ## Training\n",
    "    r2_train = knn_reg.score(x_train,y_train)\n",
    "    r2_train_list.append(r2_train)\n",
    "    \n",
    "    ## Testing\n",
    "    r2_test = knn_reg.score(x_test,y_test)\n",
    "    r2_test_list.append(r2_test)\n",
    "\n",
    "plt.figure(figsize=(20,10))\n",
    "plt.plot(k_values,r2_train_list,color = \"Green\")\n",
    "plt.plot(k_values,r2_test_list)\n",
    "plt.xlabel(\"k_values\")\n",
    "plt.ylabel(\"Accuracy\")\n",
    "plt.title(\"Comparison Between Train and Test Accuracies\")"
   ]
  },
  {
   "cell_type": "code",
   "execution_count": 35,
   "id": "559d8363",
   "metadata": {},
   "outputs": [
    {
     "data": {
      "text/plain": [
       "Text(0.5, 1.0, 'Comparison Between Train and Test Accuracies')"
      ]
     },
     "execution_count": 35,
     "metadata": {},
     "output_type": "execute_result"
    },
    {
     "data": {
      "image/png": "[encoded data removed]",
      "text/plain": [
       "<Figure size 1440x720 with 1 Axes>"
      ]
     },
     "metadata": {
      "needs_background": "light"
     },
     "output_type": "display_data"
    }
   ],
   "source": [
    "# knn_reg = KNeighborsRegressor()\n",
    "# knn_reg.fit(x_train,y_train)\n",
    "r2_train_list = []\n",
    "r2_test_list  = []\n",
    "k_values = range(2,21)\n",
    "for k in k_values:\n",
    "    knn_reg = KNeighborsRegressor(n_neighbors=k,p=2) # MD\n",
    "    knn_reg.fit(x_train,y_train)\n",
    "    ## Training\n",
    "    r2_train = knn_reg.score(x_train,y_train)\n",
    "    r2_train_list.append(r2_train)\n",
    "    \n",
    "    ## Testing\n",
    "    r2_test = knn_reg.score(x_test,y_test)\n",
    "    r2_test_list.append(r2_test)\n",
    "\n",
    "plt.figure(figsize=(20,10))\n",
    "plt.plot(k_values,r2_train_list,color = \"Green\")\n",
    "plt.plot(k_values,r2_test_list)\n",
    "plt.xlabel(\"k_values\")\n",
    "plt.ylabel(\"Accuracy\")\n",
    "plt.title(\"Comparison Between Train and Test Accuracies\")"
   ]
  },
  {
   "cell_type": "markdown",
   "id": "657e6bea",
   "metadata": {},
   "source": [
    "## Feature Scaling"
   ]
  },
  {
   "cell_type": "code",
   "execution_count": 31,
   "id": "6d775496",
   "metadata": {},
   "outputs": [],
   "source": [
    "x = df.drop(\"Price\",axis=1)\n",
    "y = df[\"Price\"]\n",
    "x_train,x_test,y_train,y_test = train_test_split(x,y,test_size=0.30,random_state=45)"
   ]
  },
  {
   "cell_type": "code",
   "execution_count": 32,
   "id": "bcbfbf35",
   "metadata": {},
   "outputs": [
    {
     "data": {
      "text/html": [
       "<div>\n",
       "<style scoped>\n",
       "    .dataframe tbody tr th:only-of-type {\n",
       "        vertical-align: middle;\n",
       "    }\n",
       "\n",
       "    .dataframe tbody tr th {\n",
       "        vertical-align: top;\n",
       "    }\n",
       "\n",
       "    .dataframe thead th {\n",
       "        text-align: right;\n",
       "    }\n",
       "</style>\n",
       "<table border=\"1\" class=\"dataframe\">\n",
       "  <thead>\n",
       "    <tr style=\"text-align: right;\">\n",
       "      <th></th>\n",
       "      <th>CRIM</th>\n",
       "      <th>ZN</th>\n",
       "      <th>INDUS</th>\n",
       "      <th>CHAS</th>\n",
       "      <th>NOX</th>\n",
       "      <th>RM</th>\n",
       "      <th>AGE</th>\n",
       "      <th>DIS</th>\n",
       "      <th>RAD</th>\n",
       "      <th>TAX</th>\n",
       "      <th>PTRATIO</th>\n",
       "      <th>B</th>\n",
       "      <th>LSTAT</th>\n",
       "    </tr>\n",
       "  </thead>\n",
       "  <tbody>\n",
       "    <tr>\n",
       "      <th>48</th>\n",
       "      <td>0.25387</td>\n",
       "      <td>0.0</td>\n",
       "      <td>6.91</td>\n",
       "      <td>0.0</td>\n",
       "      <td>0.4480</td>\n",
       "      <td>5.399</td>\n",
       "      <td>95.3</td>\n",
       "      <td>5.8700</td>\n",
       "      <td>3.0</td>\n",
       "      <td>233.0</td>\n",
       "      <td>17.9</td>\n",
       "      <td>396.90</td>\n",
       "      <td>30.81</td>\n",
       "    </tr>\n",
       "    <tr>\n",
       "      <th>64</th>\n",
       "      <td>0.01951</td>\n",
       "      <td>17.5</td>\n",
       "      <td>1.38</td>\n",
       "      <td>0.0</td>\n",
       "      <td>0.4161</td>\n",
       "      <td>7.104</td>\n",
       "      <td>59.5</td>\n",
       "      <td>9.2229</td>\n",
       "      <td>3.0</td>\n",
       "      <td>216.0</td>\n",
       "      <td>18.6</td>\n",
       "      <td>393.24</td>\n",
       "      <td>8.05</td>\n",
       "    </tr>\n",
       "    <tr>\n",
       "      <th>473</th>\n",
       "      <td>4.64689</td>\n",
       "      <td>0.0</td>\n",
       "      <td>18.10</td>\n",
       "      <td>0.0</td>\n",
       "      <td>0.6140</td>\n",
       "      <td>6.980</td>\n",
       "      <td>67.6</td>\n",
       "      <td>2.5329</td>\n",
       "      <td>24.0</td>\n",
       "      <td>666.0</td>\n",
       "      <td>20.2</td>\n",
       "      <td>374.68</td>\n",
       "      <td>11.66</td>\n",
       "    </tr>\n",
       "    <tr>\n",
       "      <th>485</th>\n",
       "      <td>3.67367</td>\n",
       "      <td>0.0</td>\n",
       "      <td>18.10</td>\n",
       "      <td>0.0</td>\n",
       "      <td>0.5830</td>\n",
       "      <td>6.312</td>\n",
       "      <td>51.9</td>\n",
       "      <td>3.9917</td>\n",
       "      <td>24.0</td>\n",
       "      <td>666.0</td>\n",
       "      <td>20.2</td>\n",
       "      <td>388.62</td>\n",
       "      <td>10.58</td>\n",
       "    </tr>\n",
       "    <tr>\n",
       "      <th>228</th>\n",
       "      <td>0.29819</td>\n",
       "      <td>0.0</td>\n",
       "      <td>6.20</td>\n",
       "      <td>0.0</td>\n",
       "      <td>0.5040</td>\n",
       "      <td>7.686</td>\n",
       "      <td>17.0</td>\n",
       "      <td>3.3751</td>\n",
       "      <td>8.0</td>\n",
       "      <td>307.0</td>\n",
       "      <td>17.4</td>\n",
       "      <td>377.51</td>\n",
       "      <td>3.92</td>\n",
       "    </tr>\n",
       "  </tbody>\n",
       "</table>\n",
       "</div>"
      ],
      "text/plain": [
       "        CRIM    ZN  INDUS  CHAS     NOX     RM   AGE     DIS   RAD    TAX  \\\n",
       "48   0.25387   0.0   6.91   0.0  0.4480  5.399  95.3  5.8700   3.0  233.0   \n",
       "64   0.01951  17.5   1.38   0.0  0.4161  7.104  59.5  9.2229   3.0  216.0   \n",
       "473  4.64689   0.0  18.10   0.0  0.6140  6.980  67.6  2.5329  24.0  666.0   \n",
       "485  3.67367   0.0  18.10   0.0  0.5830  6.312  51.9  3.9917  24.0  666.0   \n",
       "228  0.29819   0.0   6.20   0.0  0.5040  7.686  17.0  3.3751   8.0  307.0   \n",
       "\n",
       "     PTRATIO       B  LSTAT  \n",
       "48      17.9  396.90  30.81  \n",
       "64      18.6  393.24   8.05  \n",
       "473     20.2  374.68  11.66  \n",
       "485     20.2  388.62  10.58  \n",
       "228     17.4  377.51   3.92  "
      ]
     },
     "execution_count": 32,
     "metadata": {},
     "output_type": "execute_result"
    }
   ],
   "source": [
    "x_test.head()"
   ]
  },
  {
   "cell_type": "markdown",
   "id": "9bce5909",
   "metadata": {},
   "source": [
    "## 1. Normalization"
   ]
  },
  {
   "cell_type": "code",
   "execution_count": 48,
   "id": "eb69e291",
   "metadata": {},
   "outputs": [
    {
     "data": {
      "text/html": [
       "<div>\n",
       "<style scoped>\n",
       "    .dataframe tbody tr th:only-of-type {\n",
       "        vertical-align: middle;\n",
       "    }\n",
       "\n",
       "    .dataframe tbody tr th {\n",
       "        vertical-align: top;\n",
       "    }\n",
       "\n",
       "    .dataframe thead th {\n",
       "        text-align: right;\n",
       "    }\n",
       "</style>\n",
       "<table border=\"1\" class=\"dataframe\">\n",
       "  <thead>\n",
       "    <tr style=\"text-align: right;\">\n",
       "      <th></th>\n",
       "      <th>CRIM</th>\n",
       "      <th>ZN</th>\n",
       "      <th>INDUS</th>\n",
       "      <th>CHAS</th>\n",
       "      <th>NOX</th>\n",
       "      <th>RM</th>\n",
       "      <th>AGE</th>\n",
       "      <th>DIS</th>\n",
       "      <th>RAD</th>\n",
       "      <th>TAX</th>\n",
       "      <th>PTRATIO</th>\n",
       "      <th>B</th>\n",
       "      <th>LSTAT</th>\n",
       "    </tr>\n",
       "  </thead>\n",
       "  <tbody>\n",
       "    <tr>\n",
       "      <th>0</th>\n",
       "      <td>0.000706</td>\n",
       "      <td>0.45</td>\n",
       "      <td>0.109238</td>\n",
       "      <td>0.0</td>\n",
       "      <td>0.106996</td>\n",
       "      <td>0.584909</td>\n",
       "      <td>0.287333</td>\n",
       "      <td>0.486519</td>\n",
       "      <td>0.173913</td>\n",
       "      <td>0.402672</td>\n",
       "      <td>0.302326</td>\n",
       "      <td>0.981870</td>\n",
       "      <td>0.076838</td>\n",
       "    </tr>\n",
       "    <tr>\n",
       "      <th>1</th>\n",
       "      <td>0.000293</td>\n",
       "      <td>0.00</td>\n",
       "      <td>0.063050</td>\n",
       "      <td>0.0</td>\n",
       "      <td>0.150206</td>\n",
       "      <td>0.637584</td>\n",
       "      <td>0.441813</td>\n",
       "      <td>0.448545</td>\n",
       "      <td>0.086957</td>\n",
       "      <td>0.066794</td>\n",
       "      <td>0.709302</td>\n",
       "      <td>0.994276</td>\n",
       "      <td>0.028294</td>\n",
       "    </tr>\n",
       "    <tr>\n",
       "      <th>2</th>\n",
       "      <td>0.001008</td>\n",
       "      <td>0.40</td>\n",
       "      <td>0.218109</td>\n",
       "      <td>0.0</td>\n",
       "      <td>0.127572</td>\n",
       "      <td>0.608298</td>\n",
       "      <td>0.410917</td>\n",
       "      <td>0.285326</td>\n",
       "      <td>0.130435</td>\n",
       "      <td>0.127863</td>\n",
       "      <td>0.581395</td>\n",
       "      <td>1.000000</td>\n",
       "      <td>0.029404</td>\n",
       "    </tr>\n",
       "    <tr>\n",
       "      <th>3</th>\n",
       "      <td>0.274109</td>\n",
       "      <td>0.00</td>\n",
       "      <td>0.646628</td>\n",
       "      <td>0.0</td>\n",
       "      <td>0.648148</td>\n",
       "      <td>0.160464</td>\n",
       "      <td>1.000000</td>\n",
       "      <td>0.030700</td>\n",
       "      <td>1.000000</td>\n",
       "      <td>0.914122</td>\n",
       "      <td>0.883721</td>\n",
       "      <td>1.000000</td>\n",
       "      <td>0.731207</td>\n",
       "    </tr>\n",
       "    <tr>\n",
       "      <th>4</th>\n",
       "      <td>0.024151</td>\n",
       "      <td>0.00</td>\n",
       "      <td>0.700880</td>\n",
       "      <td>0.0</td>\n",
       "      <td>1.000000</td>\n",
       "      <td>0.358959</td>\n",
       "      <td>1.000000</td>\n",
       "      <td>0.035192</td>\n",
       "      <td>0.173913</td>\n",
       "      <td>0.412214</td>\n",
       "      <td>0.244186</td>\n",
       "      <td>0.426017</td>\n",
       "      <td>0.408599</td>\n",
       "    </tr>\n",
       "    <tr>\n",
       "      <th>...</th>\n",
       "      <td>...</td>\n",
       "      <td>...</td>\n",
       "      <td>...</td>\n",
       "      <td>...</td>\n",
       "      <td>...</td>\n",
       "      <td>...</td>\n",
       "      <td>...</td>\n",
       "      <td>...</td>\n",
       "      <td>...</td>\n",
       "      <td>...</td>\n",
       "      <td>...</td>\n",
       "      <td>...</td>\n",
       "      <td>...</td>\n",
       "    </tr>\n",
       "    <tr>\n",
       "      <th>349</th>\n",
       "      <td>0.015530</td>\n",
       "      <td>0.00</td>\n",
       "      <td>0.281525</td>\n",
       "      <td>0.0</td>\n",
       "      <td>0.314815</td>\n",
       "      <td>0.424446</td>\n",
       "      <td>0.814624</td>\n",
       "      <td>0.260110</td>\n",
       "      <td>0.130435</td>\n",
       "      <td>0.229008</td>\n",
       "      <td>0.976744</td>\n",
       "      <td>0.585708</td>\n",
       "      <td>0.715395</td>\n",
       "    </tr>\n",
       "    <tr>\n",
       "      <th>350</th>\n",
       "      <td>1.000000</td>\n",
       "      <td>0.00</td>\n",
       "      <td>0.646628</td>\n",
       "      <td>0.0</td>\n",
       "      <td>0.588477</td>\n",
       "      <td>0.631483</td>\n",
       "      <td>0.916581</td>\n",
       "      <td>0.026089</td>\n",
       "      <td>1.000000</td>\n",
       "      <td>0.914122</td>\n",
       "      <td>0.883721</td>\n",
       "      <td>1.000000</td>\n",
       "      <td>0.424133</td>\n",
       "    </tr>\n",
       "    <tr>\n",
       "      <th>351</th>\n",
       "      <td>0.013337</td>\n",
       "      <td>0.00</td>\n",
       "      <td>0.785557</td>\n",
       "      <td>0.0</td>\n",
       "      <td>0.491770</td>\n",
       "      <td>0.500915</td>\n",
       "      <td>0.976313</td>\n",
       "      <td>0.103793</td>\n",
       "      <td>0.130435</td>\n",
       "      <td>0.477099</td>\n",
       "      <td>1.000000</td>\n",
       "      <td>1.000000</td>\n",
       "      <td>0.286824</td>\n",
       "    </tr>\n",
       "    <tr>\n",
       "      <th>352</th>\n",
       "      <td>0.514104</td>\n",
       "      <td>0.00</td>\n",
       "      <td>0.646628</td>\n",
       "      <td>0.0</td>\n",
       "      <td>0.633745</td>\n",
       "      <td>0.133415</td>\n",
       "      <td>1.000000</td>\n",
       "      <td>0.048068</td>\n",
       "      <td>1.000000</td>\n",
       "      <td>0.914122</td>\n",
       "      <td>0.883721</td>\n",
       "      <td>0.221771</td>\n",
       "      <td>0.972538</td>\n",
       "    </tr>\n",
       "    <tr>\n",
       "      <th>353</th>\n",
       "      <td>0.076372</td>\n",
       "      <td>0.00</td>\n",
       "      <td>0.646628</td>\n",
       "      <td>0.0</td>\n",
       "      <td>0.674897</td>\n",
       "      <td>0.451088</td>\n",
       "      <td>0.839341</td>\n",
       "      <td>0.144395</td>\n",
       "      <td>1.000000</td>\n",
       "      <td>0.914122</td>\n",
       "      <td>0.883721</td>\n",
       "      <td>1.000000</td>\n",
       "      <td>0.354508</td>\n",
       "    </tr>\n",
       "  </tbody>\n",
       "</table>\n",
       "<p>354 rows × 13 columns</p>\n",
       "</div>"
      ],
      "text/plain": [
       "         CRIM    ZN     INDUS  CHAS       NOX        RM       AGE       DIS  \\\n",
       "0    0.000706  0.45  0.109238   0.0  0.106996  0.584909  0.287333  0.486519   \n",
       "1    0.000293  0.00  0.063050   0.0  0.150206  0.637584  0.441813  0.448545   \n",
       "2    0.001008  0.40  0.218109   0.0  0.127572  0.608298  0.410917  0.285326   \n",
       "3    0.274109  0.00  0.646628   0.0  0.648148  0.160464  1.000000  0.030700   \n",
       "4    0.024151  0.00  0.700880   0.0  1.000000  0.358959  1.000000  0.035192   \n",
       "..        ...   ...       ...   ...       ...       ...       ...       ...   \n",
       "349  0.015530  0.00  0.281525   0.0  0.314815  0.424446  0.814624  0.260110   \n",
       "350  1.000000  0.00  0.646628   0.0  0.588477  0.631483  0.916581  0.026089   \n",
       "351  0.013337  0.00  0.785557   0.0  0.491770  0.500915  0.976313  0.103793   \n",
       "352  0.514104  0.00  0.646628   0.0  0.633745  0.133415  1.000000  0.048068   \n",
       "353  0.076372  0.00  0.646628   0.0  0.674897  0.451088  0.839341  0.144395   \n",
       "\n",
       "          RAD       TAX   PTRATIO         B     LSTAT  \n",
       "0    0.173913  0.402672  0.302326  0.981870  0.076838  \n",
       "1    0.086957  0.066794  0.709302  0.994276  0.028294  \n",
       "2    0.130435  0.127863  0.581395  1.000000  0.029404  \n",
       "3    1.000000  0.914122  0.883721  1.000000  0.731207  \n",
       "4    0.173913  0.412214  0.244186  0.426017  0.408599  \n",
       "..        ...       ...       ...       ...       ...  \n",
       "349  0.130435  0.229008  0.976744  0.585708  0.715395  \n",
       "350  1.000000  0.914122  0.883721  1.000000  0.424133  \n",
       "351  0.130435  0.477099  1.000000  1.000000  0.286824  \n",
       "352  1.000000  0.914122  0.883721  0.221771  0.972538  \n",
       "353  1.000000  0.914122  0.883721  1.000000  0.354508  \n",
       "\n",
       "[354 rows x 13 columns]"
      ]
     },
     "execution_count": 48,
     "metadata": {},
     "output_type": "execute_result"
    }
   ],
   "source": [
    "normal_scalar = MinMaxScaler()\n",
    "normal_scalar.fit(x_train)\n",
    "array = normal_scalar.transform(x_train)\n",
    "normal_train_df = pd.DataFrame(array,columns=x_train.columns)\n",
    "normal_train_df"
   ]
  },
  {
   "cell_type": "code",
   "execution_count": 49,
   "id": "a41a10d0",
   "metadata": {},
   "outputs": [
    {
     "name": "stdout",
     "output_type": "stream",
     "text": [
      "MSE 14.10699435028249\n",
      "********************\n",
      "MAE 2.36045197740113\n",
      "********************\n",
      "R2_score 0.8218586240734952\n"
     ]
    }
   ],
   "source": [
    "knn_reg = KNeighborsRegressor()\n",
    "knn_reg.fit(normal_train_df,y_train)\n",
    "# Training\n",
    "y_pred_train = knn_reg.predict(normal_train_df) # only scaling\n",
    "\n",
    "mse = mean_squared_error(y_train,y_pred_train)\n",
    "print(\"MSE\",mse)\n",
    "print(\"*\"*20)\n",
    "\n",
    "mae = mean_absolute_error(y_train,y_pred_train)\n",
    "print(\"MAE\",mae)\n",
    "print(\"*\"*20)\n",
    "R2_SCORE = r2_score(y_train,y_pred_train)\n",
    "print(\"R2_score\",R2_SCORE)"
   ]
  },
  {
   "cell_type": "code",
   "execution_count": 50,
   "id": "06264ae5",
   "metadata": {},
   "outputs": [
    {
     "name": "stdout",
     "output_type": "stream",
     "text": [
      "MSE 29.556400000000007\n",
      "********************\n",
      "MAE 3.612894736842105\n",
      "********************\n",
      "R2_score 0.6939898596247946\n"
     ]
    }
   ],
   "source": [
    "array = normal_scalar.transform(x_test)  # Only do transformation for user input\n",
    "normal_test_df = pd.DataFrame(array,columns=x_test.columns)\n",
    "# Testing\n",
    "y_pred_test = knn_reg.predict(normal_test_df) # only scaling\n",
    "\n",
    "mse = mean_squared_error(y_test,y_pred_test)\n",
    "print(\"MSE\",mse)\n",
    "print(\"*\"*20)\n",
    "\n",
    "mae = mean_absolute_error(y_test,y_pred_test)\n",
    "print(\"MAE\",mae)\n",
    "print(\"*\"*20)\n",
    "R2_SCORE = r2_score(y_test,y_pred_test)\n",
    "print(\"R2_score\",R2_SCORE)"
   ]
  },
  {
   "cell_type": "markdown",
   "id": "a858acd4",
   "metadata": {},
   "source": [
    "## HyperParameter Tuning"
   ]
  },
  {
   "cell_type": "code",
   "execution_count": 51,
   "id": "7d46b306",
   "metadata": {},
   "outputs": [
    {
     "data": {
      "text/plain": [
       "Text(0.5, 1.0, 'Comparison Between Train and Test Accuracies')"
      ]
     },
     "execution_count": 51,
     "metadata": {},
     "output_type": "execute_result"
    },
    {
     "data": {
      "image/png": "[encoded data removed]",
      "text/plain": [
       "<Figure size 1440x720 with 1 Axes>"
      ]
     },
     "metadata": {
      "needs_background": "light"
     },
     "output_type": "display_data"
    }
   ],
   "source": [
    "r2_train_list = []\n",
    "r2_test_list  = []\n",
    "k_values = range(2,21)\n",
    "for k in k_values:\n",
    "    knn_reg = KNeighborsRegressor(n_neighbors=k,p=1) # MD\n",
    "    knn_reg.fit(normal_train_df,y_train)\n",
    "    ## Training\n",
    "    r2_train = knn_reg.score(normal_train_df,y_train)\n",
    "    r2_train_list.append(r2_train)\n",
    "    \n",
    "    ## Testing\n",
    "    r2_test = knn_reg.score(normal_test_df,y_test)\n",
    "    r2_test_list.append(r2_test)\n",
    "\n",
    "plt.figure(figsize=(20,10))\n",
    "plt.plot(k_values,r2_train_list,color = \"Green\")\n",
    "plt.plot(k_values,r2_test_list)\n",
    "plt.xlabel(\"k_values\")\n",
    "plt.ylabel(\"Accuracy\")\n",
    "plt.title(\"Comparison Between Train and Test Accuracies\")"
   ]
  },
  {
   "cell_type": "code",
   "execution_count": 52,
   "id": "805df05c",
   "metadata": {},
   "outputs": [
    {
     "data": {
      "text/plain": [
       "Text(0.5, 1.0, 'Comparison Between Train and Test Accuracies')"
      ]
     },
     "execution_count": 52,
     "metadata": {},
     "output_type": "execute_result"
    },
    {
     "data": {
      "image/png": "[encoded data removed]",
      "text/plain": [
       "<Figure size 1440x720 with 1 Axes>"
      ]
     },
     "metadata": {
      "needs_background": "light"
     },
     "output_type": "display_data"
    }
   ],
   "source": [
    "r2_train_list = []\n",
    "r2_test_list  = []\n",
    "k_values = range(2,21)\n",
    "for k in k_values:\n",
    "    knn_reg = KNeighborsRegressor(n_neighbors=k,p=2) # MD\n",
    "    knn_reg.fit(normal_train_df,y_train)\n",
    "    ## Training\n",
    "    r2_train = knn_reg.score(normal_train_df,y_train)\n",
    "    r2_train_list.append(r2_train)\n",
    "    \n",
    "    ## Testing\n",
    "    r2_test = knn_reg.score(normal_test_df,y_test)\n",
    "    r2_test_list.append(r2_test)\n",
    "\n",
    "plt.figure(figsize=(20,10))\n",
    "plt.plot(k_values,r2_train_list,color = \"Green\")\n",
    "plt.plot(k_values,r2_test_list)\n",
    "plt.xlabel(\"k_values\")\n",
    "plt.ylabel(\"Accuracy\")\n",
    "plt.title(\"Comparison Between Train and Test Accuracies\")"
   ]
  },
  {
   "cell_type": "code",
   "execution_count": null,
   "id": "171a6e8f",
   "metadata": {},
   "outputs": [],
   "source": []
  },
  {
   "cell_type": "code",
   "execution_count": null,
   "id": "9ad7976a",
   "metadata": {},
   "outputs": [],
   "source": []
  },
  {
   "cell_type": "markdown",
   "id": "85ee0dc8",
   "metadata": {},
   "source": [
    "## 2) Standardization"
   ]
  },
  {
   "cell_type": "code",
   "execution_count": 56,
   "id": "bc49fb5f",
   "metadata": {},
   "outputs": [
    {
     "data": {
      "text/html": [
       "<div>\n",
       "<style scoped>\n",
       "    .dataframe tbody tr th:only-of-type {\n",
       "        vertical-align: middle;\n",
       "    }\n",
       "\n",
       "    .dataframe tbody tr th {\n",
       "        vertical-align: top;\n",
       "    }\n",
       "\n",
       "    .dataframe thead th {\n",
       "        text-align: right;\n",
       "    }\n",
       "</style>\n",
       "<table border=\"1\" class=\"dataframe\">\n",
       "  <thead>\n",
       "    <tr style=\"text-align: right;\">\n",
       "      <th></th>\n",
       "      <th>CRIM</th>\n",
       "      <th>ZN</th>\n",
       "      <th>INDUS</th>\n",
       "      <th>CHAS</th>\n",
       "      <th>NOX</th>\n",
       "      <th>RM</th>\n",
       "      <th>AGE</th>\n",
       "      <th>DIS</th>\n",
       "      <th>RAD</th>\n",
       "      <th>TAX</th>\n",
       "      <th>PTRATIO</th>\n",
       "      <th>B</th>\n",
       "      <th>LSTAT</th>\n",
       "    </tr>\n",
       "  </thead>\n",
       "  <tbody>\n",
       "    <tr>\n",
       "      <th>0</th>\n",
       "      <td>-0.391656</td>\n",
       "      <td>1.411266</td>\n",
       "      <td>-1.130514</td>\n",
       "      <td>-0.263603</td>\n",
       "      <td>-0.998972</td>\n",
       "      <td>0.675110</td>\n",
       "      <td>-1.296413</td>\n",
       "      <td>1.279668</td>\n",
       "      <td>-0.508460</td>\n",
       "      <td>-0.049308</td>\n",
       "      <td>-1.487330</td>\n",
       "      <td>0.341575</td>\n",
       "      <td>-1.121293</td>\n",
       "    </tr>\n",
       "    <tr>\n",
       "      <th>1</th>\n",
       "      <td>-0.395575</td>\n",
       "      <td>-0.499530</td>\n",
       "      <td>-1.317449</td>\n",
       "      <td>-0.263603</td>\n",
       "      <td>-0.818000</td>\n",
       "      <td>1.046277</td>\n",
       "      <td>-0.771906</td>\n",
       "      <td>1.080059</td>\n",
       "      <td>-0.739816</td>\n",
       "      <td>-1.107914</td>\n",
       "      <td>0.153633</td>\n",
       "      <td>0.399257</td>\n",
       "      <td>-1.369385</td>\n",
       "    </tr>\n",
       "    <tr>\n",
       "      <th>2</th>\n",
       "      <td>-0.388783</td>\n",
       "      <td>1.198955</td>\n",
       "      <td>-0.689883</td>\n",
       "      <td>-0.263603</td>\n",
       "      <td>-0.912795</td>\n",
       "      <td>0.839914</td>\n",
       "      <td>-0.876807</td>\n",
       "      <td>0.222115</td>\n",
       "      <td>-0.624138</td>\n",
       "      <td>-0.915440</td>\n",
       "      <td>-0.362098</td>\n",
       "      <td>0.425870</td>\n",
       "      <td>-1.363714</td>\n",
       "    </tr>\n",
       "    <tr>\n",
       "      <th>3</th>\n",
       "      <td>2.203553</td>\n",
       "      <td>-0.499530</td>\n",
       "      <td>1.044457</td>\n",
       "      <td>-0.263603</td>\n",
       "      <td>1.267490</td>\n",
       "      <td>-2.315725</td>\n",
       "      <td>1.123316</td>\n",
       "      <td>-1.116305</td>\n",
       "      <td>1.689422</td>\n",
       "      <td>1.562660</td>\n",
       "      <td>0.856903</td>\n",
       "      <td>0.425870</td>\n",
       "      <td>2.222980</td>\n",
       "    </tr>\n",
       "    <tr>\n",
       "      <th>4</th>\n",
       "      <td>-0.169106</td>\n",
       "      <td>-0.499530</td>\n",
       "      <td>1.264031</td>\n",
       "      <td>-0.263603</td>\n",
       "      <td>2.741122</td>\n",
       "      <td>-0.917041</td>\n",
       "      <td>1.123316</td>\n",
       "      <td>-1.092693</td>\n",
       "      <td>-0.508460</td>\n",
       "      <td>-0.019234</td>\n",
       "      <td>-1.721753</td>\n",
       "      <td>-2.242834</td>\n",
       "      <td>0.574235</td>\n",
       "    </tr>\n",
       "  </tbody>\n",
       "</table>\n",
       "</div>"
      ],
      "text/plain": [
       "       CRIM        ZN     INDUS      CHAS       NOX        RM       AGE  \\\n",
       "0 -0.391656  1.411266 -1.130514 -0.263603 -0.998972  0.675110 -1.296413   \n",
       "1 -0.395575 -0.499530 -1.317449 -0.263603 -0.818000  1.046277 -0.771906   \n",
       "2 -0.388783  1.198955 -0.689883 -0.263603 -0.912795  0.839914 -0.876807   \n",
       "3  2.203553 -0.499530  1.044457 -0.263603  1.267490 -2.315725  1.123316   \n",
       "4 -0.169106 -0.499530  1.264031 -0.263603  2.741122 -0.917041  1.123316   \n",
       "\n",
       "        DIS       RAD       TAX   PTRATIO         B     LSTAT  \n",
       "0  1.279668 -0.508460 -0.049308 -1.487330  0.341575 -1.121293  \n",
       "1  1.080059 -0.739816 -1.107914  0.153633  0.399257 -1.369385  \n",
       "2  0.222115 -0.624138 -0.915440 -0.362098  0.425870 -1.363714  \n",
       "3 -1.116305  1.689422  1.562660  0.856903  0.425870  2.222980  \n",
       "4 -1.092693 -0.508460 -0.019234 -1.721753 -2.242834  0.574235  "
      ]
     },
     "execution_count": 56,
     "metadata": {},
     "output_type": "execute_result"
    }
   ],
   "source": [
    "std_scalar = StandardScaler()\n",
    "std_scalar.fit(x_train)\n",
    "array = std_scalar.transform(x_train)\n",
    "std_train_df = pd.DataFrame(array,columns=x_train.columns)\n",
    "std_train_df.head()"
   ]
  },
  {
   "cell_type": "code",
   "execution_count": 40,
   "id": "c25eab8e",
   "metadata": {},
   "outputs": [
    {
     "name": "stdout",
     "output_type": "stream",
     "text": [
      "MSE 12.590395480225988\n",
      "********************\n",
      "MAE 2.207796610169492\n",
      "********************\n",
      "R2_score 0.8410100466041945\n"
     ]
    }
   ],
   "source": [
    "# StandardScalar -->>Training without hyper parameter tuning\n",
    "knn_reg = KNeighborsRegressor()\n",
    "knn_reg.fit(std_train_df,y_train)\n",
    "\n",
    "y_pred_train = knn_reg.predict(std_train_df)\n",
    "mse = mean_squared_error(y_train,y_pred_train)\n",
    "print(\"MSE\",mse)\n",
    "print(\"*\"*20)\n",
    "\n",
    "mae = mean_absolute_error(y_train,y_pred_train)\n",
    "print(\"MAE\",mae)\n",
    "print(\"*\"*20)\n",
    "R2_SCORE = r2_score(y_train,y_pred_train)\n",
    "print(\"R2_score\",R2_SCORE)"
   ]
  },
  {
   "cell_type": "code",
   "execution_count": 41,
   "id": "e9c3e267",
   "metadata": {},
   "outputs": [
    {
     "name": "stdout",
     "output_type": "stream",
     "text": [
      "MSE 23.17411578947369\n",
      "********************\n",
      "MAE 3.184210526315789\n",
      "********************\n",
      "R2_score 0.7600683971725885\n"
     ]
    }
   ],
   "source": [
    "array = std_scalar.transform(x_test)  # Only do transformation for user input\n",
    "std_test_df = pd.DataFrame(array,columns=x_test.columns)\n",
    "# Testing\n",
    "y_pred_test = knn_reg.predict(std_test_df) # only scaling\n",
    "\n",
    "mse = mean_squared_error(y_test,y_pred_test)\n",
    "print(\"MSE\",mse)\n",
    "print(\"*\"*20)\n",
    "\n",
    "mae = mean_absolute_error(y_test,y_pred_test)\n",
    "print(\"MAE\",mae)\n",
    "print(\"*\"*20)\n",
    "R2_SCORE = r2_score(y_test,y_pred_test)\n",
    "print(\"R2_score\",R2_SCORE)"
   ]
  },
  {
   "cell_type": "markdown",
   "id": "375b0632",
   "metadata": {},
   "source": [
    "### Hyperparameter Tuning after standardization"
   ]
  },
  {
   "cell_type": "code",
   "execution_count": 42,
   "id": "915c18d4",
   "metadata": {},
   "outputs": [
    {
     "data": {
      "text/plain": [
       "Text(0.5, 1.0, 'Comparison Between Train and Test Accuracies')"
      ]
     },
     "execution_count": 42,
     "metadata": {},
     "output_type": "execute_result"
    },
    {
     "data": {
      "image/png": "[encoded data removed]",
      "text/plain": [
       "<Figure size 1440x720 with 1 Axes>"
      ]
     },
     "metadata": {
      "needs_background": "light"
     },
     "output_type": "display_data"
    }
   ],
   "source": [
    "r2_train_list = []\n",
    "r2_test_list  = []\n",
    "k_values = range(2,21)\n",
    "for k in k_values:\n",
    "    knn_reg = KNeighborsRegressor(n_neighbors=k,p=1) # MD\n",
    "    knn_reg.fit(std_train_df,y_train)\n",
    "    ## Training\n",
    "    r2_train = knn_reg.score(std_train_df,y_train)\n",
    "    r2_train_list.append(r2_train)\n",
    "    \n",
    "    ## Testing\n",
    "    r2_test = knn_reg.score(std_test_df,y_test)\n",
    "    r2_test_list.append(r2_test)\n",
    "\n",
    "plt.figure(figsize=(20,10))\n",
    "plt.plot(k_values,r2_train_list,color = \"Green\")\n",
    "plt.plot(k_values,r2_test_list)\n",
    "plt.xlabel(\"k_values\")\n",
    "plt.ylabel(\"Accuracy\")\n",
    "plt.title(\"Comparison Between Train and Test Accuracies\")"
   ]
  },
  {
   "cell_type": "code",
   "execution_count": 43,
   "id": "a33d60e8",
   "metadata": {},
   "outputs": [
    {
     "data": {
      "text/plain": [
       "Text(0.5, 1.0, 'Comparison Between Train and Test Accuracies')"
      ]
     },
     "execution_count": 43,
     "metadata": {},
     "output_type": "execute_result"
    },
    {
     "data": {
      "image/png": "[encoded data removed]",
      "text/plain": [
       "<Figure size 1440x720 with 1 Axes>"
      ]
     },
     "metadata": {
      "needs_background": "light"
     },
     "output_type": "display_data"
    }
   ],
   "source": [
    "r2_train_list = []\n",
    "r2_test_list  = []\n",
    "k_values = range(2,21)\n",
    "for k in k_values:\n",
    "    knn_reg = KNeighborsRegressor(n_neighbors=k,p=2) # MD\n",
    "    knn_reg.fit(std_train_df,y_train)\n",
    "    ## Training\n",
    "    r2_train = knn_reg.score(std_train_df,y_train)\n",
    "    r2_train_list.append(r2_train)\n",
    "    \n",
    "    ## Testing\n",
    "    r2_test = knn_reg.score(std_test_df,y_test)\n",
    "    r2_test_list.append(r2_test)\n",
    "\n",
    "plt.figure(figsize=(20,10))\n",
    "plt.plot(k_values,r2_train_list,color = \"Green\")\n",
    "plt.plot(k_values,r2_test_list)\n",
    "plt.xlabel(\"k_values\")\n",
    "plt.ylabel(\"Accuracy\")\n",
    "plt.title(\"Comparison Between Train and Test Accuracies\")"
   ]
  },
  {
   "cell_type": "code",
   "execution_count": 53,
   "id": "c033d0ef",
   "metadata": {},
   "outputs": [
    {
     "name": "stdout",
     "output_type": "stream",
     "text": [
      "MSE 14.117256748273697\n",
      "********************\n",
      "MAE 2.3077212806026366\n",
      "********************\n",
      "R2_score 0.8217290317838079\n"
     ]
    }
   ],
   "source": [
    "knn_reg = KNeighborsRegressor(n_neighbors=6,p=1)\n",
    "knn_reg.fit(std_train_df,y_train)\n",
    "# Training\n",
    "y_pred_train = knn_reg.predict(std_train_df)\n",
    "mse = mean_squared_error(y_train,y_pred_train)\n",
    "print(\"MSE\",mse)\n",
    "print(\"*\"*20)\n",
    "\n",
    "mae = mean_absolute_error(y_train,y_pred_train)\n",
    "print(\"MAE\",mae)\n",
    "print(\"*\"*20)\n",
    "R2_SCORE = r2_score(y_train,y_pred_train)\n",
    "print(\"R2_score\",R2_SCORE)"
   ]
  },
  {
   "cell_type": "code",
   "execution_count": 54,
   "id": "337a437b",
   "metadata": {},
   "outputs": [
    {
     "name": "stdout",
     "output_type": "stream",
     "text": [
      "MSE 21.726789108187134\n",
      "********************\n",
      "MAE 3.1948464912280703\n",
      "********************\n",
      "R2_score 0.7750531937279632\n"
     ]
    }
   ],
   "source": [
    "array = std_scalar.transform(x_test)  # Only do transformation for user input\n",
    "std_test_df = pd.DataFrame(array,columns=x_test.columns)\n",
    "# Testing\n",
    "y_pred_test = knn_reg.predict(std_test_df) # only scaling\n",
    "\n",
    "mse = mean_squared_error(y_test,y_pred_test)\n",
    "print(\"MSE\",mse)\n",
    "print(\"*\"*20)\n",
    "\n",
    "mae = mean_absolute_error(y_test,y_pred_test)\n",
    "print(\"MAE\",mae)\n",
    "print(\"*\"*20)\n",
    "R2_SCORE = r2_score(y_test,y_pred_test)\n",
    "print(\"R2_score\",R2_SCORE)"
   ]
  },
  {
   "cell_type": "code",
   "execution_count": 55,
   "id": "d6c0f88f",
   "metadata": {},
   "outputs": [],
   "source": [
    "with open(\"KNN_REG_MODEL.pkl\",\"wb\") as f:\n",
    "    pickle.dump(knn_reg,f)"
   ]
  },
  {
   "cell_type": "code",
   "execution_count": 57,
   "id": "0b6c4ec6",
   "metadata": {},
   "outputs": [],
   "source": [
    "with open(\"Scaling_std.pkl\",\"wb\") as f:\n",
    "    pickle.dump(std_scalar,f)"
   ]
  },
  {
   "cell_type": "code",
   "execution_count": 67,
   "id": "1fe28014",
   "metadata": {},
   "outputs": [
    {
     "data": {
      "text/plain": [
       "['CRIM',\n",
       " 'ZN',\n",
       " 'INDUS',\n",
       " 'CHAS',\n",
       " 'NOX',\n",
       " 'RM',\n",
       " 'AGE',\n",
       " 'DIS',\n",
       " 'RAD',\n",
       " 'TAX',\n",
       " 'PTRATIO',\n",
       " 'B',\n",
       " 'LSTAT']"
      ]
     },
     "execution_count": 67,
     "metadata": {},
     "output_type": "execute_result"
    }
   ],
   "source": [
    "list(x_test.columns)"
   ]
  },
  {
   "cell_type": "code",
   "execution_count": 68,
   "id": "a04868a5",
   "metadata": {},
   "outputs": [],
   "source": [
    "columns = list(x_test.columns)\n",
    "data_columns = {\"Columns\":columns}"
   ]
  },
  {
   "cell_type": "code",
   "execution_count": 69,
   "id": "bbb5bffe",
   "metadata": {},
   "outputs": [],
   "source": [
    "with open(\"Columns_Data.json\",\"w\") as f:\n",
    "    json.dump(data_columns,f)"
   ]
  },
  {
   "cell_type": "code",
   "execution_count": null,
   "id": "510e95de",
   "metadata": {},
   "outputs": [],
   "source": []
  }
 ],
 "metadata": {
  "kernelspec": {
   "display_name": "Python 3 (ipykernel)",
   "language": "python",
   "name": "python3"
  },
  "language_info": {
   "codemirror_mode": {
    "name": "ipython",
    "version": 3
   },
   "file_extension": ".py",
   "mimetype": "text/x-python",
   "name": "python",
   "nbconvert_exporter": "python",
   "pygments_lexer": "ipython3",
   "version": "3.9.7"
  }
 },
 "nbformat": 4,
 "nbformat_minor": 5
}
